{
 "cells": [
  {
   "cell_type": "code",
   "execution_count": 7,
   "metadata": {},
   "outputs": [
    {
     "name": "stderr",
     "output_type": "stream",
     "text": [
      "Read 47M words\n",
      "Number of words:  12230\n",
      "Number of labels: 0\n",
      "Progress: 100.0% words/sec/thread:  338755 lr:  0.000000 avg.loss:  2.831915 ETA:   0h 0m 0s\n"
     ]
    }
   ],
   "source": [
    "import fasttext as ft\n",
    "\n",
    "model = ft.train_unsupervised(\n",
    "    'data/moves.txt', \n",
    "    model='skipgram',\n",
    "    minCount=1, \n",
    "    minn=1, \n",
    "    maxn=4,\n",
    "    ws=3,\n",
    "    bucket=1_000_000,\n",
    "    dim=1\n",
    ")"
   ]
  },
  {
   "cell_type": "code",
   "execution_count": 8,
   "metadata": {},
   "outputs": [],
   "source": [
    "model.save_model(path='models/chess2vec-3ws-1dim.bin')"
   ]
  },
  {
   "cell_type": "code",
   "execution_count": 10,
   "metadata": {},
   "outputs": [
    {
     "data": {
      "text/plain": [
       "array([-0.95061314], dtype=float32)"
      ]
     },
     "execution_count": 10,
     "metadata": {},
     "output_type": "execute_result"
    }
   ],
   "source": [
    "model.get_word_vector('e4')"
   ]
  },
  {
   "cell_type": "code",
   "execution_count": 6,
   "metadata": {},
   "outputs": [
    {
     "data": {
      "text/plain": [
       "[(0.9586524367332458, 'd5'),\n",
       " (0.9437271952629089, 'e6'),\n",
       " (0.9057495594024658, 'e3'),\n",
       " (0.893066942691803, 'Nf3'),\n",
       " (0.8810217976570129, 'Nc3'),\n",
       " (0.8776171207427979, 'c6'),\n",
       " (0.8692705035209656, 'Nf6'),\n",
       " (0.8634811043739319, 'c5'),\n",
       " (0.8553837537765503, 'c4'),\n",
       " (0.8422982096672058, 'c3')]"
      ]
     },
     "execution_count": 6,
     "metadata": {},
     "output_type": "execute_result"
    }
   ],
   "source": [
    "model.get_analogies('e4', 'e5', 'd4')"
   ]
  },
  {
   "cell_type": "code",
   "execution_count": null,
   "metadata": {},
   "outputs": [],
   "source": []
  }
 ],
 "metadata": {
  "kernelspec": {
   "display_name": "ELO Guesser 3.11 new",
   "language": "python",
   "name": "elo_guesser3.11"
  },
  "language_info": {
   "codemirror_mode": {
    "name": "ipython",
    "version": 3
   },
   "file_extension": ".py",
   "mimetype": "text/x-python",
   "name": "python",
   "nbconvert_exporter": "python",
   "pygments_lexer": "ipython3",
   "version": "3.11.11"
  }
 },
 "nbformat": 4,
 "nbformat_minor": 2
}
