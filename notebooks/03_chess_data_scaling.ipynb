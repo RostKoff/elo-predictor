{
 "cells": [
  {
   "cell_type": "code",
   "execution_count": 1,
   "metadata": {},
   "outputs": [
    {
     "name": "stderr",
     "output_type": "stream",
     "text": [
      "\n",
      "A module that was compiled using NumPy 1.x cannot be run in\n",
      "NumPy 2.0.2 as it may crash. To support both 1.x and 2.x\n",
      "versions of NumPy, modules must be compiled with NumPy 2.0.\n",
      "Some module may need to rebuild instead e.g. with 'pybind11>=2.12'.\n",
      "\n",
      "If you are a user of the module, the easiest solution will be to\n",
      "downgrade to 'numpy<2' or try to upgrade the affected module.\n",
      "We expect that some modules will need time to support NumPy 2.\n",
      "\n",
      "Traceback (most recent call last):  File \"/usr/lib/python3.11/runpy.py\", line 198, in _run_module_as_main\n",
      "    return _run_code(code, main_globals, None,\n",
      "  File \"/usr/lib/python3.11/runpy.py\", line 88, in _run_code\n",
      "    exec(code, run_globals)\n",
      "  File \"/home/zamog/.cache/pypoetry/virtualenvs/non-package-mode-uH4eZcH1-py3.11/lib/python3.11/site-packages/ipykernel_launcher.py\", line 18, in <module>\n",
      "    app.launch_new_instance()\n",
      "  File \"/home/zamog/.cache/pypoetry/virtualenvs/non-package-mode-uH4eZcH1-py3.11/lib/python3.11/site-packages/traitlets/config/application.py\", line 1075, in launch_instance\n",
      "    app.start()\n",
      "  File \"/home/zamog/.cache/pypoetry/virtualenvs/non-package-mode-uH4eZcH1-py3.11/lib/python3.11/site-packages/ipykernel/kernelapp.py\", line 739, in start\n",
      "    self.io_loop.start()\n",
      "  File \"/home/zamog/.cache/pypoetry/virtualenvs/non-package-mode-uH4eZcH1-py3.11/lib/python3.11/site-packages/tornado/platform/asyncio.py\", line 205, in start\n",
      "    self.asyncio_loop.run_forever()\n",
      "  File \"/usr/lib/python3.11/asyncio/base_events.py\", line 604, in run_forever\n",
      "    self._run_once()\n",
      "  File \"/usr/lib/python3.11/asyncio/base_events.py\", line 1909, in _run_once\n",
      "    handle._run()\n",
      "  File \"/usr/lib/python3.11/asyncio/events.py\", line 80, in _run\n",
      "    self._context.run(self._callback, *self._args)\n",
      "  File \"/home/zamog/.cache/pypoetry/virtualenvs/non-package-mode-uH4eZcH1-py3.11/lib/python3.11/site-packages/ipykernel/kernelbase.py\", line 545, in dispatch_queue\n",
      "    await self.process_one()\n",
      "  File \"/home/zamog/.cache/pypoetry/virtualenvs/non-package-mode-uH4eZcH1-py3.11/lib/python3.11/site-packages/ipykernel/kernelbase.py\", line 534, in process_one\n",
      "    await dispatch(*args)\n",
      "  File \"/home/zamog/.cache/pypoetry/virtualenvs/non-package-mode-uH4eZcH1-py3.11/lib/python3.11/site-packages/ipykernel/kernelbase.py\", line 437, in dispatch_shell\n",
      "    await result\n",
      "  File \"/home/zamog/.cache/pypoetry/virtualenvs/non-package-mode-uH4eZcH1-py3.11/lib/python3.11/site-packages/ipykernel/ipkernel.py\", line 362, in execute_request\n",
      "    await super().execute_request(stream, ident, parent)\n",
      "  File \"/home/zamog/.cache/pypoetry/virtualenvs/non-package-mode-uH4eZcH1-py3.11/lib/python3.11/site-packages/ipykernel/kernelbase.py\", line 778, in execute_request\n",
      "    reply_content = await reply_content\n",
      "  File \"/home/zamog/.cache/pypoetry/virtualenvs/non-package-mode-uH4eZcH1-py3.11/lib/python3.11/site-packages/ipykernel/ipkernel.py\", line 449, in do_execute\n",
      "    res = shell.run_cell(\n",
      "  File \"/home/zamog/.cache/pypoetry/virtualenvs/non-package-mode-uH4eZcH1-py3.11/lib/python3.11/site-packages/ipykernel/zmqshell.py\", line 549, in run_cell\n",
      "    return super().run_cell(*args, **kwargs)\n",
      "  File \"/home/zamog/.cache/pypoetry/virtualenvs/non-package-mode-uH4eZcH1-py3.11/lib/python3.11/site-packages/IPython/core/interactiveshell.py\", line 3077, in run_cell\n",
      "    result = self._run_cell(\n",
      "  File \"/home/zamog/.cache/pypoetry/virtualenvs/non-package-mode-uH4eZcH1-py3.11/lib/python3.11/site-packages/IPython/core/interactiveshell.py\", line 3132, in _run_cell\n",
      "    result = runner(coro)\n",
      "  File \"/home/zamog/.cache/pypoetry/virtualenvs/non-package-mode-uH4eZcH1-py3.11/lib/python3.11/site-packages/IPython/core/async_helpers.py\", line 128, in _pseudo_sync_runner\n",
      "    coro.send(None)\n",
      "  File \"/home/zamog/.cache/pypoetry/virtualenvs/non-package-mode-uH4eZcH1-py3.11/lib/python3.11/site-packages/IPython/core/interactiveshell.py\", line 3336, in run_cell_async\n",
      "    has_raised = await self.run_ast_nodes(code_ast.body, cell_name,\n",
      "  File \"/home/zamog/.cache/pypoetry/virtualenvs/non-package-mode-uH4eZcH1-py3.11/lib/python3.11/site-packages/IPython/core/interactiveshell.py\", line 3519, in run_ast_nodes\n",
      "    if await self.run_code(code, result, async_=asy):\n",
      "  File \"/home/zamog/.cache/pypoetry/virtualenvs/non-package-mode-uH4eZcH1-py3.11/lib/python3.11/site-packages/IPython/core/interactiveshell.py\", line 3579, in run_code\n",
      "    exec(code_obj, self.user_global_ns, self.user_ns)\n",
      "  File \"/tmp/ipykernel_164041/3689527809.py\", line 1, in <module>\n",
      "    import pandas as pd\n",
      "  File \"/home/zamog/.cache/pypoetry/virtualenvs/non-package-mode-uH4eZcH1-py3.11/lib/python3.11/site-packages/pandas/__init__.py\", line 26, in <module>\n",
      "    from pandas.compat import (\n",
      "  File \"/home/zamog/.cache/pypoetry/virtualenvs/non-package-mode-uH4eZcH1-py3.11/lib/python3.11/site-packages/pandas/compat/__init__.py\", line 27, in <module>\n",
      "    from pandas.compat.pyarrow import (\n",
      "  File \"/home/zamog/.cache/pypoetry/virtualenvs/non-package-mode-uH4eZcH1-py3.11/lib/python3.11/site-packages/pandas/compat/pyarrow.py\", line 8, in <module>\n",
      "    import pyarrow as pa\n",
      "  File \"/home/zamog/.cache/pypoetry/virtualenvs/non-package-mode-uH4eZcH1-py3.11/lib/python3.11/site-packages/pyarrow/__init__.py\", line 65, in <module>\n",
      "    import pyarrow.lib as _lib\n"
     ]
    },
    {
     "ename": "AttributeError",
     "evalue": "_ARRAY_API not found",
     "output_type": "error",
     "traceback": [
      "\u001b[0;31m---------------------------------------------------------------------------\u001b[0m",
      "\u001b[0;31mAttributeError\u001b[0m                            Traceback (most recent call last)",
      "\u001b[0;31mAttributeError\u001b[0m: _ARRAY_API not found"
     ]
    },
    {
     "name": "stderr",
     "output_type": "stream",
     "text": [
      "\n",
      "A module that was compiled using NumPy 1.x cannot be run in\n",
      "NumPy 2.0.2 as it may crash. To support both 1.x and 2.x\n",
      "versions of NumPy, modules must be compiled with NumPy 2.0.\n",
      "Some module may need to rebuild instead e.g. with 'pybind11>=2.12'.\n",
      "\n",
      "If you are a user of the module, the easiest solution will be to\n",
      "downgrade to 'numpy<2' or try to upgrade the affected module.\n",
      "We expect that some modules will need time to support NumPy 2.\n",
      "\n",
      "Traceback (most recent call last):  File \"/usr/lib/python3.11/runpy.py\", line 198, in _run_module_as_main\n",
      "    return _run_code(code, main_globals, None,\n",
      "  File \"/usr/lib/python3.11/runpy.py\", line 88, in _run_code\n",
      "    exec(code, run_globals)\n",
      "  File \"/home/zamog/.cache/pypoetry/virtualenvs/non-package-mode-uH4eZcH1-py3.11/lib/python3.11/site-packages/ipykernel_launcher.py\", line 18, in <module>\n",
      "    app.launch_new_instance()\n",
      "  File \"/home/zamog/.cache/pypoetry/virtualenvs/non-package-mode-uH4eZcH1-py3.11/lib/python3.11/site-packages/traitlets/config/application.py\", line 1075, in launch_instance\n",
      "    app.start()\n",
      "  File \"/home/zamog/.cache/pypoetry/virtualenvs/non-package-mode-uH4eZcH1-py3.11/lib/python3.11/site-packages/ipykernel/kernelapp.py\", line 739, in start\n",
      "    self.io_loop.start()\n",
      "  File \"/home/zamog/.cache/pypoetry/virtualenvs/non-package-mode-uH4eZcH1-py3.11/lib/python3.11/site-packages/tornado/platform/asyncio.py\", line 205, in start\n",
      "    self.asyncio_loop.run_forever()\n",
      "  File \"/usr/lib/python3.11/asyncio/base_events.py\", line 604, in run_forever\n",
      "    self._run_once()\n",
      "  File \"/usr/lib/python3.11/asyncio/base_events.py\", line 1909, in _run_once\n",
      "    handle._run()\n",
      "  File \"/usr/lib/python3.11/asyncio/events.py\", line 80, in _run\n",
      "    self._context.run(self._callback, *self._args)\n",
      "  File \"/home/zamog/.cache/pypoetry/virtualenvs/non-package-mode-uH4eZcH1-py3.11/lib/python3.11/site-packages/ipykernel/kernelbase.py\", line 545, in dispatch_queue\n",
      "    await self.process_one()\n",
      "  File \"/home/zamog/.cache/pypoetry/virtualenvs/non-package-mode-uH4eZcH1-py3.11/lib/python3.11/site-packages/ipykernel/kernelbase.py\", line 534, in process_one\n",
      "    await dispatch(*args)\n",
      "  File \"/home/zamog/.cache/pypoetry/virtualenvs/non-package-mode-uH4eZcH1-py3.11/lib/python3.11/site-packages/ipykernel/kernelbase.py\", line 437, in dispatch_shell\n",
      "    await result\n",
      "  File \"/home/zamog/.cache/pypoetry/virtualenvs/non-package-mode-uH4eZcH1-py3.11/lib/python3.11/site-packages/ipykernel/ipkernel.py\", line 362, in execute_request\n",
      "    await super().execute_request(stream, ident, parent)\n",
      "  File \"/home/zamog/.cache/pypoetry/virtualenvs/non-package-mode-uH4eZcH1-py3.11/lib/python3.11/site-packages/ipykernel/kernelbase.py\", line 778, in execute_request\n",
      "    reply_content = await reply_content\n",
      "  File \"/home/zamog/.cache/pypoetry/virtualenvs/non-package-mode-uH4eZcH1-py3.11/lib/python3.11/site-packages/ipykernel/ipkernel.py\", line 449, in do_execute\n",
      "    res = shell.run_cell(\n",
      "  File \"/home/zamog/.cache/pypoetry/virtualenvs/non-package-mode-uH4eZcH1-py3.11/lib/python3.11/site-packages/ipykernel/zmqshell.py\", line 549, in run_cell\n",
      "    return super().run_cell(*args, **kwargs)\n",
      "  File \"/home/zamog/.cache/pypoetry/virtualenvs/non-package-mode-uH4eZcH1-py3.11/lib/python3.11/site-packages/IPython/core/interactiveshell.py\", line 3077, in run_cell\n",
      "    result = self._run_cell(\n",
      "  File \"/home/zamog/.cache/pypoetry/virtualenvs/non-package-mode-uH4eZcH1-py3.11/lib/python3.11/site-packages/IPython/core/interactiveshell.py\", line 3132, in _run_cell\n",
      "    result = runner(coro)\n",
      "  File \"/home/zamog/.cache/pypoetry/virtualenvs/non-package-mode-uH4eZcH1-py3.11/lib/python3.11/site-packages/IPython/core/async_helpers.py\", line 128, in _pseudo_sync_runner\n",
      "    coro.send(None)\n",
      "  File \"/home/zamog/.cache/pypoetry/virtualenvs/non-package-mode-uH4eZcH1-py3.11/lib/python3.11/site-packages/IPython/core/interactiveshell.py\", line 3336, in run_cell_async\n",
      "    has_raised = await self.run_ast_nodes(code_ast.body, cell_name,\n",
      "  File \"/home/zamog/.cache/pypoetry/virtualenvs/non-package-mode-uH4eZcH1-py3.11/lib/python3.11/site-packages/IPython/core/interactiveshell.py\", line 3519, in run_ast_nodes\n",
      "    if await self.run_code(code, result, async_=asy):\n",
      "  File \"/home/zamog/.cache/pypoetry/virtualenvs/non-package-mode-uH4eZcH1-py3.11/lib/python3.11/site-packages/IPython/core/interactiveshell.py\", line 3579, in run_code\n",
      "    exec(code_obj, self.user_global_ns, self.user_ns)\n",
      "  File \"/tmp/ipykernel_164041/3689527809.py\", line 1, in <module>\n",
      "    import pandas as pd\n",
      "  File \"/home/zamog/.cache/pypoetry/virtualenvs/non-package-mode-uH4eZcH1-py3.11/lib/python3.11/site-packages/pandas/__init__.py\", line 49, in <module>\n",
      "    from pandas.core.api import (\n",
      "  File \"/home/zamog/.cache/pypoetry/virtualenvs/non-package-mode-uH4eZcH1-py3.11/lib/python3.11/site-packages/pandas/core/api.py\", line 9, in <module>\n",
      "    from pandas.core.dtypes.dtypes import (\n",
      "  File \"/home/zamog/.cache/pypoetry/virtualenvs/non-package-mode-uH4eZcH1-py3.11/lib/python3.11/site-packages/pandas/core/dtypes/dtypes.py\", line 24, in <module>\n",
      "    from pandas._libs import (\n",
      "  File \"/home/zamog/.cache/pypoetry/virtualenvs/non-package-mode-uH4eZcH1-py3.11/lib/python3.11/site-packages/pyarrow/__init__.py\", line 65, in <module>\n",
      "    import pyarrow.lib as _lib\n"
     ]
    },
    {
     "ename": "AttributeError",
     "evalue": "_ARRAY_API not found",
     "output_type": "error",
     "traceback": [
      "\u001b[0;31m---------------------------------------------------------------------------\u001b[0m",
      "\u001b[0;31mAttributeError\u001b[0m                            Traceback (most recent call last)",
      "\u001b[0;31mAttributeError\u001b[0m: _ARRAY_API not found"
     ]
    },
    {
     "name": "stdout",
     "output_type": "stream",
     "text": [
      "<class 'pandas.core.frame.DataFrame'>\n",
      "RangeIndex: 697470 entries, 0 to 697469\n",
      "Data columns (total 7 columns):\n",
      " #   Column        Non-Null Count   Dtype  \n",
      "---  ------        --------------   -----  \n",
      " 0   event         697470 non-null  object \n",
      " 1   white_elo     697470 non-null  float64\n",
      " 2   black_elo     697470 non-null  float64\n",
      " 3   time_control  697470 non-null  object \n",
      " 4   result        697470 non-null  object \n",
      " 5   termination   697470 non-null  object \n",
      " 6   moves         697470 non-null  object \n",
      "dtypes: float64(2), object(5)\n",
      "memory usage: 37.2+ MB\n"
     ]
    }
   ],
   "source": [
    "import pandas as pd\n",
    "\n",
    "df = pd.read_csv('data/rated_2014-01_initial_cleaning.csv')\n",
    "df.info()"
   ]
  },
  {
   "cell_type": "markdown",
   "metadata": {},
   "source": [
    "### Choosing only classical games and deleting `event` column"
   ]
  },
  {
   "cell_type": "code",
   "execution_count": 2,
   "metadata": {},
   "outputs": [
    {
     "name": "stdout",
     "output_type": "stream",
     "text": [
      "<class 'pandas.core.frame.DataFrame'>\n",
      "Index: 246495 entries, 2 to 697466\n",
      "Data columns (total 6 columns):\n",
      " #   Column        Non-Null Count   Dtype  \n",
      "---  ------        --------------   -----  \n",
      " 0   white_elo     246495 non-null  float64\n",
      " 1   black_elo     246495 non-null  float64\n",
      " 2   time_control  246495 non-null  object \n",
      " 3   result        246495 non-null  object \n",
      " 4   termination   246495 non-null  object \n",
      " 5   moves         246495 non-null  object \n",
      "dtypes: float64(2), object(4)\n",
      "memory usage: 13.2+ MB\n"
     ]
    }
   ],
   "source": [
    "df_classical = df[df['event'] == 'classical']\n",
    "df_classical = df_classical[df_classical.columns[1:]]\n",
    "df_classical.info()"
   ]
  },
  {
   "cell_type": "markdown",
   "metadata": {},
   "source": [
    "### Dividing time_control into two columns"
   ]
  },
  {
   "cell_type": "code",
   "execution_count": 3,
   "metadata": {},
   "outputs": [
    {
     "data": {
      "text/plain": [
       "2     900+30\n",
       "7      600+0\n",
       "8      600+0\n",
       "12    1800+8\n",
       "13    1200+5\n",
       "Name: time_control, dtype: object"
      ]
     },
     "execution_count": 3,
     "metadata": {},
     "output_type": "execute_result"
    }
   ],
   "source": [
    "df_classical['time_control'].head()"
   ]
  },
  {
   "cell_type": "code",
   "execution_count": 4,
   "metadata": {},
   "outputs": [
    {
     "name": "stdout",
     "output_type": "stream",
     "text": [
      "<class 'pandas.core.frame.DataFrame'>\n",
      "Index: 246495 entries, 2 to 697466\n",
      "Data columns (total 7 columns):\n",
      " #   Column       Non-Null Count   Dtype  \n",
      "---  ------       --------------   -----  \n",
      " 0   white_elo    246495 non-null  float64\n",
      " 1   black_elo    246495 non-null  float64\n",
      " 2   result       246495 non-null  object \n",
      " 3   termination  246495 non-null  object \n",
      " 4   moves        246495 non-null  object \n",
      " 5   time         246495 non-null  int64  \n",
      " 6   increment    246495 non-null  int64  \n",
      "dtypes: float64(2), int64(2), object(3)\n",
      "memory usage: 15.0+ MB\n"
     ]
    }
   ],
   "source": [
    "df_classical[['time', 'increment']] = df_classical['time_control'].str.split('+', expand=True)\n",
    "\n",
    "df_classical['time'] = pd.to_numeric(df_classical['time'])\n",
    "df_classical['increment'] = pd.to_numeric(df_classical['increment'])\n",
    "\n",
    "df_classical = df_classical.drop(columns=['time_control'])\n",
    "df_classical.info()"
   ]
  },
  {
   "cell_type": "markdown",
   "metadata": {},
   "source": [
    "### Normalizing time and elo values."
   ]
  },
  {
   "cell_type": "code",
   "execution_count": 5,
   "metadata": {},
   "outputs": [
    {
     "data": {
      "text/plain": [
       "['models/elo_scaler.save']"
      ]
     },
     "execution_count": 5,
     "metadata": {},
     "output_type": "execute_result"
    }
   ],
   "source": [
    "from sklearn.preprocessing import MinMaxScaler\n",
    "import joblib\n",
    "\n",
    "time_cols = ['time', 'increment']\n",
    "elo_cols = ['white_elo', 'black_elo']\n",
    "\n",
    "scaler = MinMaxScaler()\n",
    "df_classical[time_cols] = scaler.fit_transform(df_classical[time_cols])\n",
    "\n",
    "joblib.dump(scaler, 'models/time_control_scaler.save')\n",
    "\n",
    "df_classical[elo_cols] = scaler.fit_transform(df_classical[elo_cols])\n",
    "joblib.dump(scaler, 'models/elo_scaler.save')"
   ]
  },
  {
   "cell_type": "code",
   "execution_count": 6,
   "metadata": {},
   "outputs": [
    {
     "data": {
      "text/html": [
       "<div>\n",
       "<style scoped>\n",
       "    .dataframe tbody tr th:only-of-type {\n",
       "        vertical-align: middle;\n",
       "    }\n",
       "\n",
       "    .dataframe tbody tr th {\n",
       "        vertical-align: top;\n",
       "    }\n",
       "\n",
       "    .dataframe thead th {\n",
       "        text-align: right;\n",
       "    }\n",
       "</style>\n",
       "<table border=\"1\" class=\"dataframe\">\n",
       "  <thead>\n",
       "    <tr style=\"text-align: right;\">\n",
       "      <th></th>\n",
       "      <th>white_elo</th>\n",
       "      <th>black_elo</th>\n",
       "      <th>result</th>\n",
       "      <th>termination</th>\n",
       "      <th>moves</th>\n",
       "      <th>time</th>\n",
       "      <th>increment</th>\n",
       "    </tr>\n",
       "  </thead>\n",
       "  <tbody>\n",
       "    <tr>\n",
       "      <th>2</th>\n",
       "      <td>0.477483</td>\n",
       "      <td>0.280130</td>\n",
       "      <td>1-0</td>\n",
       "      <td>normal</td>\n",
       "      <td>e4 d5 e5 Nc6 d4 g6 Bg5 Bg7 Nd2 f6 exf6 Nxf6 Nb...</td>\n",
       "      <td>0.083333</td>\n",
       "      <td>0.166667</td>\n",
       "    </tr>\n",
       "    <tr>\n",
       "      <th>7</th>\n",
       "      <td>0.394818</td>\n",
       "      <td>0.581759</td>\n",
       "      <td>1-0</td>\n",
       "      <td>normal</td>\n",
       "      <td>e4 e6 Nc3 c6 f4 d5 f5 exf5 exd5 cxd5 d4 Qe7+ B...</td>\n",
       "      <td>0.055556</td>\n",
       "      <td>0.000000</td>\n",
       "    </tr>\n",
       "    <tr>\n",
       "      <th>8</th>\n",
       "      <td>0.455275</td>\n",
       "      <td>0.594788</td>\n",
       "      <td>1-0</td>\n",
       "      <td>normal</td>\n",
       "      <td>e4 g6 Bc4 Bg7 c3 Nf6 e5 Ng4 d4 d5 Bb3 Nc6 h3 N...</td>\n",
       "      <td>0.055556</td>\n",
       "      <td>0.000000</td>\n",
       "    </tr>\n",
       "    <tr>\n",
       "      <th>12</th>\n",
       "      <td>0.335595</td>\n",
       "      <td>0.551792</td>\n",
       "      <td>0-1</td>\n",
       "      <td>normal</td>\n",
       "      <td>d4 Nf6 c4 a6 Nc3 b6 e4 Bb7 e5 Ng8 Nh3 h6 Be2 e...</td>\n",
       "      <td>0.166667</td>\n",
       "      <td>0.044444</td>\n",
       "    </tr>\n",
       "    <tr>\n",
       "      <th>13</th>\n",
       "      <td>0.453424</td>\n",
       "      <td>0.164169</td>\n",
       "      <td>1/2-1/2</td>\n",
       "      <td>normal</td>\n",
       "      <td>d4 d5 f4 Nc6 Nc3 Nxd4 Nxd5 Qxd5</td>\n",
       "      <td>0.111111</td>\n",
       "      <td>0.027778</td>\n",
       "    </tr>\n",
       "  </tbody>\n",
       "</table>\n",
       "</div>"
      ],
      "text/plain": [
       "    white_elo  black_elo   result termination  \\\n",
       "2    0.477483   0.280130      1-0      normal   \n",
       "7    0.394818   0.581759      1-0      normal   \n",
       "8    0.455275   0.594788      1-0      normal   \n",
       "12   0.335595   0.551792      0-1      normal   \n",
       "13   0.453424   0.164169  1/2-1/2      normal   \n",
       "\n",
       "                                                moves      time  increment  \n",
       "2   e4 d5 e5 Nc6 d4 g6 Bg5 Bg7 Nd2 f6 exf6 Nxf6 Nb...  0.083333   0.166667  \n",
       "7   e4 e6 Nc3 c6 f4 d5 f5 exf5 exd5 cxd5 d4 Qe7+ B...  0.055556   0.000000  \n",
       "8   e4 g6 Bc4 Bg7 c3 Nf6 e5 Ng4 d4 d5 Bb3 Nc6 h3 N...  0.055556   0.000000  \n",
       "12  d4 Nf6 c4 a6 Nc3 b6 e4 Bb7 e5 Ng8 Nh3 h6 Be2 e...  0.166667   0.044444  \n",
       "13                    d4 d5 f4 Nc6 Nc3 Nxd4 Nxd5 Qxd5  0.111111   0.027778  "
      ]
     },
     "execution_count": 6,
     "metadata": {},
     "output_type": "execute_result"
    }
   ],
   "source": [
    "df_classical.head()"
   ]
  },
  {
   "cell_type": "markdown",
   "metadata": {},
   "source": [
    "### Creating one-hot encoding for game results and termination."
   ]
  },
  {
   "cell_type": "code",
   "execution_count": 7,
   "metadata": {},
   "outputs": [
    {
     "data": {
      "text/html": [
       "<div>\n",
       "<style scoped>\n",
       "    .dataframe tbody tr th:only-of-type {\n",
       "        vertical-align: middle;\n",
       "    }\n",
       "\n",
       "    .dataframe tbody tr th {\n",
       "        vertical-align: top;\n",
       "    }\n",
       "\n",
       "    .dataframe thead th {\n",
       "        text-align: right;\n",
       "    }\n",
       "</style>\n",
       "<table border=\"1\" class=\"dataframe\">\n",
       "  <thead>\n",
       "    <tr style=\"text-align: right;\">\n",
       "      <th></th>\n",
       "      <th>white_elo</th>\n",
       "      <th>black_elo</th>\n",
       "      <th>moves</th>\n",
       "      <th>time</th>\n",
       "      <th>increment</th>\n",
       "      <th>result_0-1</th>\n",
       "      <th>result_1-0</th>\n",
       "      <th>result_1/2-1/2</th>\n",
       "      <th>termination_normal</th>\n",
       "      <th>termination_rules infraction</th>\n",
       "      <th>termination_time forfeit</th>\n",
       "    </tr>\n",
       "  </thead>\n",
       "  <tbody>\n",
       "    <tr>\n",
       "      <th>2</th>\n",
       "      <td>0.477483</td>\n",
       "      <td>0.280130</td>\n",
       "      <td>e4 d5 e5 Nc6 d4 g6 Bg5 Bg7 Nd2 f6 exf6 Nxf6 Nb...</td>\n",
       "      <td>0.083333</td>\n",
       "      <td>0.166667</td>\n",
       "      <td>0.0</td>\n",
       "      <td>1.0</td>\n",
       "      <td>0.0</td>\n",
       "      <td>1.0</td>\n",
       "      <td>0.0</td>\n",
       "      <td>0.0</td>\n",
       "    </tr>\n",
       "    <tr>\n",
       "      <th>7</th>\n",
       "      <td>0.394818</td>\n",
       "      <td>0.581759</td>\n",
       "      <td>e4 e6 Nc3 c6 f4 d5 f5 exf5 exd5 cxd5 d4 Qe7+ B...</td>\n",
       "      <td>0.055556</td>\n",
       "      <td>0.000000</td>\n",
       "      <td>0.0</td>\n",
       "      <td>1.0</td>\n",
       "      <td>0.0</td>\n",
       "      <td>1.0</td>\n",
       "      <td>0.0</td>\n",
       "      <td>0.0</td>\n",
       "    </tr>\n",
       "    <tr>\n",
       "      <th>8</th>\n",
       "      <td>0.455275</td>\n",
       "      <td>0.594788</td>\n",
       "      <td>e4 g6 Bc4 Bg7 c3 Nf6 e5 Ng4 d4 d5 Bb3 Nc6 h3 N...</td>\n",
       "      <td>0.055556</td>\n",
       "      <td>0.000000</td>\n",
       "      <td>0.0</td>\n",
       "      <td>1.0</td>\n",
       "      <td>0.0</td>\n",
       "      <td>1.0</td>\n",
       "      <td>0.0</td>\n",
       "      <td>0.0</td>\n",
       "    </tr>\n",
       "    <tr>\n",
       "      <th>12</th>\n",
       "      <td>0.335595</td>\n",
       "      <td>0.551792</td>\n",
       "      <td>d4 Nf6 c4 a6 Nc3 b6 e4 Bb7 e5 Ng8 Nh3 h6 Be2 e...</td>\n",
       "      <td>0.166667</td>\n",
       "      <td>0.044444</td>\n",
       "      <td>1.0</td>\n",
       "      <td>0.0</td>\n",
       "      <td>0.0</td>\n",
       "      <td>1.0</td>\n",
       "      <td>0.0</td>\n",
       "      <td>0.0</td>\n",
       "    </tr>\n",
       "    <tr>\n",
       "      <th>13</th>\n",
       "      <td>0.453424</td>\n",
       "      <td>0.164169</td>\n",
       "      <td>d4 d5 f4 Nc6 Nc3 Nxd4 Nxd5 Qxd5</td>\n",
       "      <td>0.111111</td>\n",
       "      <td>0.027778</td>\n",
       "      <td>0.0</td>\n",
       "      <td>0.0</td>\n",
       "      <td>1.0</td>\n",
       "      <td>1.0</td>\n",
       "      <td>0.0</td>\n",
       "      <td>0.0</td>\n",
       "    </tr>\n",
       "  </tbody>\n",
       "</table>\n",
       "</div>"
      ],
      "text/plain": [
       "    white_elo  black_elo                                              moves  \\\n",
       "2    0.477483   0.280130  e4 d5 e5 Nc6 d4 g6 Bg5 Bg7 Nd2 f6 exf6 Nxf6 Nb...   \n",
       "7    0.394818   0.581759  e4 e6 Nc3 c6 f4 d5 f5 exf5 exd5 cxd5 d4 Qe7+ B...   \n",
       "8    0.455275   0.594788  e4 g6 Bc4 Bg7 c3 Nf6 e5 Ng4 d4 d5 Bb3 Nc6 h3 N...   \n",
       "12   0.335595   0.551792  d4 Nf6 c4 a6 Nc3 b6 e4 Bb7 e5 Ng8 Nh3 h6 Be2 e...   \n",
       "13   0.453424   0.164169                    d4 d5 f4 Nc6 Nc3 Nxd4 Nxd5 Qxd5   \n",
       "\n",
       "        time  increment  result_0-1  result_1-0  result_1/2-1/2  \\\n",
       "2   0.083333   0.166667         0.0         1.0             0.0   \n",
       "7   0.055556   0.000000         0.0         1.0             0.0   \n",
       "8   0.055556   0.000000         0.0         1.0             0.0   \n",
       "12  0.166667   0.044444         1.0         0.0             0.0   \n",
       "13  0.111111   0.027778         0.0         0.0             1.0   \n",
       "\n",
       "    termination_normal  termination_rules infraction  termination_time forfeit  \n",
       "2                  1.0                           0.0                       0.0  \n",
       "7                  1.0                           0.0                       0.0  \n",
       "8                  1.0                           0.0                       0.0  \n",
       "12                 1.0                           0.0                       0.0  \n",
       "13                 1.0                           0.0                       0.0  "
      ]
     },
     "execution_count": 7,
     "metadata": {},
     "output_type": "execute_result"
    }
   ],
   "source": [
    "df_classical = pd.get_dummies(df_classical, columns=['result', 'termination'])\n",
    "one_hot_cols = ['result_0-1','result_1-0','result_1/2-1/2','termination_normal','termination_rules infraction','termination_time forfeit']\n",
    "df_classical[one_hot_cols] = df_classical[one_hot_cols].astype('float32') \n",
    "df_classical.head()"
   ]
  },
  {
   "cell_type": "markdown",
   "metadata": {},
   "source": [
    "### Creating move embeddings with fastText model."
   ]
  },
  {
   "cell_type": "code",
   "execution_count": 8,
   "metadata": {},
   "outputs": [
    {
     "name": "stderr",
     "output_type": "stream",
     "text": [
      "Warning : `load_model` does not return WordVectorModel or SupervisedModel any more, but a `FastText` object which is very similar.\n"
     ]
    }
   ],
   "source": [
    "EMBEDDINGS_MODEL = 'models/chess2vec-3ws-1dim.bin'\n",
    "import fasttext as ft\n",
    "\n",
    "model = ft.load_model(EMBEDDINGS_MODEL)"
   ]
  },
  {
   "cell_type": "code",
   "execution_count": 9,
   "metadata": {},
   "outputs": [],
   "source": [
    "from pandas import DataFrame\n",
    "import numpy as np\n",
    "def process_game_moves(vecs_dictionary: dict, moves_str: str):\n",
    "    moves = moves_str.split(' ')\n",
    "\n",
    "    return np.array([vecs_dictionary[move] for move in moves], dtype='float32')\n",
    "\n",
    "def moves2vec(model, df_moves: DataFrame):\n",
    "    unique_moves = set()\n",
    "    for moves in df_moves.values:\n",
    "        unique_moves.update(moves.split())\n",
    "    \n",
    "    moves_vecs = {move: model.get_word_vector(move) for move in unique_moves}\n",
    "    \n",
    "    return df_moves.apply(lambda moves_str: process_game_moves(moves_vecs, moves_str).flatten())"
   ]
  },
  {
   "cell_type": "code",
   "execution_count": 10,
   "metadata": {},
   "outputs": [
    {
     "data": {
      "text/html": [
       "<div>\n",
       "<style scoped>\n",
       "    .dataframe tbody tr th:only-of-type {\n",
       "        vertical-align: middle;\n",
       "    }\n",
       "\n",
       "    .dataframe tbody tr th {\n",
       "        vertical-align: top;\n",
       "    }\n",
       "\n",
       "    .dataframe thead th {\n",
       "        text-align: right;\n",
       "    }\n",
       "</style>\n",
       "<table border=\"1\" class=\"dataframe\">\n",
       "  <thead>\n",
       "    <tr style=\"text-align: right;\">\n",
       "      <th></th>\n",
       "      <th>white_elo</th>\n",
       "      <th>black_elo</th>\n",
       "      <th>moves</th>\n",
       "      <th>time</th>\n",
       "      <th>increment</th>\n",
       "      <th>result_0-1</th>\n",
       "      <th>result_1-0</th>\n",
       "      <th>result_1/2-1/2</th>\n",
       "      <th>termination_normal</th>\n",
       "      <th>termination_rules infraction</th>\n",
       "      <th>termination_time forfeit</th>\n",
       "    </tr>\n",
       "  </thead>\n",
       "  <tbody>\n",
       "    <tr>\n",
       "      <th>2</th>\n",
       "      <td>0.477483</td>\n",
       "      <td>0.280130</td>\n",
       "      <td>[-0.95061314, -0.9539115, -0.9600917, -0.95966...</td>\n",
       "      <td>0.083333</td>\n",
       "      <td>0.166667</td>\n",
       "      <td>0.0</td>\n",
       "      <td>1.0</td>\n",
       "      <td>0.0</td>\n",
       "      <td>1.0</td>\n",
       "      <td>0.0</td>\n",
       "      <td>0.0</td>\n",
       "    </tr>\n",
       "    <tr>\n",
       "      <th>7</th>\n",
       "      <td>0.394818</td>\n",
       "      <td>0.581759</td>\n",
       "      <td>[-0.95061314, -0.94958806, -0.9628587, -0.9650...</td>\n",
       "      <td>0.055556</td>\n",
       "      <td>0.000000</td>\n",
       "      <td>0.0</td>\n",
       "      <td>1.0</td>\n",
       "      <td>0.0</td>\n",
       "      <td>1.0</td>\n",
       "      <td>0.0</td>\n",
       "      <td>0.0</td>\n",
       "    </tr>\n",
       "    <tr>\n",
       "      <th>8</th>\n",
       "      <td>0.455275</td>\n",
       "      <td>0.594788</td>\n",
       "      <td>[-0.95061314, -0.9661038, -0.96249336, -0.9604...</td>\n",
       "      <td>0.055556</td>\n",
       "      <td>0.000000</td>\n",
       "      <td>0.0</td>\n",
       "      <td>1.0</td>\n",
       "      <td>0.0</td>\n",
       "      <td>1.0</td>\n",
       "      <td>0.0</td>\n",
       "      <td>0.0</td>\n",
       "    </tr>\n",
       "    <tr>\n",
       "      <th>12</th>\n",
       "      <td>0.335595</td>\n",
       "      <td>0.551792</td>\n",
       "      <td>[-0.9569214, -0.95958155, -0.9672969, -0.97700...</td>\n",
       "      <td>0.166667</td>\n",
       "      <td>0.044444</td>\n",
       "      <td>1.0</td>\n",
       "      <td>0.0</td>\n",
       "      <td>0.0</td>\n",
       "      <td>1.0</td>\n",
       "      <td>0.0</td>\n",
       "      <td>0.0</td>\n",
       "    </tr>\n",
       "    <tr>\n",
       "      <th>13</th>\n",
       "      <td>0.453424</td>\n",
       "      <td>0.164169</td>\n",
       "      <td>[-0.9569214, -0.9539115, -0.97433335, -0.95966...</td>\n",
       "      <td>0.111111</td>\n",
       "      <td>0.027778</td>\n",
       "      <td>0.0</td>\n",
       "      <td>0.0</td>\n",
       "      <td>1.0</td>\n",
       "      <td>1.0</td>\n",
       "      <td>0.0</td>\n",
       "      <td>0.0</td>\n",
       "    </tr>\n",
       "  </tbody>\n",
       "</table>\n",
       "</div>"
      ],
      "text/plain": [
       "    white_elo  black_elo                                              moves  \\\n",
       "2    0.477483   0.280130  [-0.95061314, -0.9539115, -0.9600917, -0.95966...   \n",
       "7    0.394818   0.581759  [-0.95061314, -0.94958806, -0.9628587, -0.9650...   \n",
       "8    0.455275   0.594788  [-0.95061314, -0.9661038, -0.96249336, -0.9604...   \n",
       "12   0.335595   0.551792  [-0.9569214, -0.95958155, -0.9672969, -0.97700...   \n",
       "13   0.453424   0.164169  [-0.9569214, -0.9539115, -0.97433335, -0.95966...   \n",
       "\n",
       "        time  increment  result_0-1  result_1-0  result_1/2-1/2  \\\n",
       "2   0.083333   0.166667         0.0         1.0             0.0   \n",
       "7   0.055556   0.000000         0.0         1.0             0.0   \n",
       "8   0.055556   0.000000         0.0         1.0             0.0   \n",
       "12  0.166667   0.044444         1.0         0.0             0.0   \n",
       "13  0.111111   0.027778         0.0         0.0             1.0   \n",
       "\n",
       "    termination_normal  termination_rules infraction  termination_time forfeit  \n",
       "2                  1.0                           0.0                       0.0  \n",
       "7                  1.0                           0.0                       0.0  \n",
       "8                  1.0                           0.0                       0.0  \n",
       "12                 1.0                           0.0                       0.0  \n",
       "13                 1.0                           0.0                       0.0  "
      ]
     },
     "execution_count": 10,
     "metadata": {},
     "output_type": "execute_result"
    }
   ],
   "source": [
    "df_classical['moves'] = moves2vec(model, df_classical['moves'])\n",
    "df_classical.head()"
   ]
  },
  {
   "cell_type": "code",
   "execution_count": 34,
   "metadata": {},
   "outputs": [],
   "source": [
    "df_moves = df_classical['moves']"
   ]
  },
  {
   "cell_type": "code",
   "execution_count": 11,
   "metadata": {},
   "outputs": [
    {
     "name": "stderr",
     "output_type": "stream",
     "text": [
      "/tmp/ipykernel_164041/1920346002.py:1: PerformanceWarning: \n",
      "your performance may suffer as PyTables will pickle object types that it cannot\n",
      "map directly to c-types [inferred_type->mixed,key->block2_values] [items->Index(['moves'], dtype='object')]\n",
      "\n",
      "  df_classical.to_hdf('data/classical_1dim.h5', key='df', mode='w', index=False)\n"
     ]
    }
   ],
   "source": [
    "df_classical.to_hdf('data/classical_1dim.h5', key='df', mode='w', index=False)"
   ]
  },
  {
   "cell_type": "code",
   "execution_count": 50,
   "metadata": {},
   "outputs": [
    {
     "data": {
      "text/plain": [
       "45"
      ]
     },
     "execution_count": 50,
     "metadata": {},
     "output_type": "execute_result"
    }
   ],
   "source": [
    "len(df_classical['moves'].values[0])"
   ]
  },
  {
   "cell_type": "code",
   "execution_count": null,
   "metadata": {},
   "outputs": [],
   "source": []
  }
 ],
 "metadata": {
  "kernelspec": {
   "display_name": "ELO Guesser 3.11 new",
   "language": "python",
   "name": "elo_guesser3.11"
  },
  "language_info": {
   "codemirror_mode": {
    "name": "ipython",
    "version": 3
   },
   "file_extension": ".py",
   "mimetype": "text/x-python",
   "name": "python",
   "nbconvert_exporter": "python",
   "pygments_lexer": "ipython3",
   "version": "3.11.11"
  }
 },
 "nbformat": 4,
 "nbformat_minor": 2
}
