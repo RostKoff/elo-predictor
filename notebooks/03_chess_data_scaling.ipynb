{
 "cells": [
  {
   "cell_type": "code",
   "execution_count": 37,
   "metadata": {},
   "outputs": [
    {
     "name": "stdout",
     "output_type": "stream",
     "text": [
      "<class 'pandas.core.frame.DataFrame'>\n",
      "RangeIndex: 697470 entries, 0 to 697469\n",
      "Data columns (total 7 columns):\n",
      " #   Column        Non-Null Count   Dtype  \n",
      "---  ------        --------------   -----  \n",
      " 0   event         697470 non-null  object \n",
      " 1   white_elo     697470 non-null  float64\n",
      " 2   black_elo     697470 non-null  float64\n",
      " 3   time_control  697470 non-null  object \n",
      " 4   result        697470 non-null  object \n",
      " 5   termination   697470 non-null  object \n",
      " 6   moves         697470 non-null  object \n",
      "dtypes: float64(2), object(5)\n",
      "memory usage: 37.2+ MB\n"
     ]
    }
   ],
   "source": [
    "import pandas as pd\n",
    "\n",
    "df = pd.read_csv('data/rated_2014-01_initial_cleaning.csv')\n",
    "df.info()"
   ]
  },
  {
   "cell_type": "markdown",
   "metadata": {},
   "source": [
    "### Choosing only classical games and deleting `event` column"
   ]
  },
  {
   "cell_type": "code",
   "execution_count": 38,
   "metadata": {},
   "outputs": [
    {
     "name": "stdout",
     "output_type": "stream",
     "text": [
      "<class 'pandas.core.frame.DataFrame'>\n",
      "Index: 246495 entries, 2 to 697466\n",
      "Data columns (total 6 columns):\n",
      " #   Column        Non-Null Count   Dtype  \n",
      "---  ------        --------------   -----  \n",
      " 0   white_elo     246495 non-null  float64\n",
      " 1   black_elo     246495 non-null  float64\n",
      " 2   time_control  246495 non-null  object \n",
      " 3   result        246495 non-null  object \n",
      " 4   termination   246495 non-null  object \n",
      " 5   moves         246495 non-null  object \n",
      "dtypes: float64(2), object(4)\n",
      "memory usage: 13.2+ MB\n"
     ]
    }
   ],
   "source": [
    "df_classical = df[df['event'] == 'classical']\n",
    "df_classical = df_classical[df_classical.columns[1:]]\n",
    "df_classical.info()"
   ]
  },
  {
   "cell_type": "markdown",
   "metadata": {},
   "source": [
    "### Dividing time_control into two columns"
   ]
  },
  {
   "cell_type": "code",
   "execution_count": 39,
   "metadata": {},
   "outputs": [
    {
     "data": {
      "text/plain": [
       "2     900+30\n",
       "7      600+0\n",
       "8      600+0\n",
       "12    1800+8\n",
       "13    1200+5\n",
       "Name: time_control, dtype: object"
      ]
     },
     "execution_count": 39,
     "metadata": {},
     "output_type": "execute_result"
    }
   ],
   "source": [
    "df_classical['time_control'].head()"
   ]
  },
  {
   "cell_type": "code",
   "execution_count": 40,
   "metadata": {},
   "outputs": [
    {
     "name": "stdout",
     "output_type": "stream",
     "text": [
      "<class 'pandas.core.frame.DataFrame'>\n",
      "Index: 246495 entries, 2 to 697466\n",
      "Data columns (total 7 columns):\n",
      " #   Column       Non-Null Count   Dtype  \n",
      "---  ------       --------------   -----  \n",
      " 0   white_elo    246495 non-null  float64\n",
      " 1   black_elo    246495 non-null  float64\n",
      " 2   result       246495 non-null  object \n",
      " 3   termination  246495 non-null  object \n",
      " 4   moves        246495 non-null  object \n",
      " 5   time         246495 non-null  int64  \n",
      " 6   increment    246495 non-null  int64  \n",
      "dtypes: float64(2), int64(2), object(3)\n",
      "memory usage: 15.0+ MB\n"
     ]
    }
   ],
   "source": [
    "df_classical[['time', 'increment']] = df_classical['time_control'].str.split('+', expand=True)\n",
    "\n",
    "df_classical['time'] = pd.to_numeric(df_classical['time'])\n",
    "df_classical['increment'] = pd.to_numeric(df_classical['increment'])\n",
    "\n",
    "df_classical = df_classical.drop(columns=['time_control'])\n",
    "df_classical.info()"
   ]
  },
  {
   "cell_type": "markdown",
   "metadata": {},
   "source": [
    "### Normalizing time and elo values."
   ]
  },
  {
   "cell_type": "code",
   "execution_count": 41,
   "metadata": {},
   "outputs": [
    {
     "data": {
      "text/plain": [
       "['models/elo_scaler_std.save']"
      ]
     },
     "execution_count": 41,
     "metadata": {},
     "output_type": "execute_result"
    }
   ],
   "source": [
    "from sklearn.preprocessing import StandardScaler\n",
    "import joblib\n",
    "\n",
    "time_cols = ['time', 'increment']\n",
    "elo_cols = ['white_elo', 'black_elo']\n",
    "\n",
    "scaler = StandardScaler()\n",
    "df_classical[time_cols] = scaler.fit_transform(df_classical[time_cols])\n",
    "\n",
    "joblib.dump(scaler, 'models/time_control_scaler_std.save')\n",
    "\n",
    "df_classical[elo_cols] = scaler.fit_transform(df_classical[elo_cols])\n",
    "joblib.dump(scaler, 'models/elo_scaler_std.save')"
   ]
  },
  {
   "cell_type": "code",
   "execution_count": 42,
   "metadata": {},
   "outputs": [
    {
     "data": {
      "text/html": [
       "<div>\n",
       "<style scoped>\n",
       "    .dataframe tbody tr th:only-of-type {\n",
       "        vertical-align: middle;\n",
       "    }\n",
       "\n",
       "    .dataframe tbody tr th {\n",
       "        vertical-align: top;\n",
       "    }\n",
       "\n",
       "    .dataframe thead th {\n",
       "        text-align: right;\n",
       "    }\n",
       "</style>\n",
       "<table border=\"1\" class=\"dataframe\">\n",
       "  <thead>\n",
       "    <tr style=\"text-align: right;\">\n",
       "      <th></th>\n",
       "      <th>white_elo</th>\n",
       "      <th>black_elo</th>\n",
       "      <th>result</th>\n",
       "      <th>termination</th>\n",
       "      <th>moves</th>\n",
       "      <th>time</th>\n",
       "      <th>increment</th>\n",
       "    </tr>\n",
       "  </thead>\n",
       "  <tbody>\n",
       "    <tr>\n",
       "      <th>2</th>\n",
       "      <td>-0.155030</td>\n",
       "      <td>-1.685366</td>\n",
       "      <td>1-0</td>\n",
       "      <td>normal</td>\n",
       "      <td>e4 d5 e5 Nc6 d4 g6 Bg5 Bg7 Nd2 f6 exf6 Nxf6 Nb...</td>\n",
       "      <td>0.388908</td>\n",
       "      <td>2.281395</td>\n",
       "    </tr>\n",
       "    <tr>\n",
       "      <th>7</th>\n",
       "      <td>-0.805046</td>\n",
       "      <td>0.504307</td>\n",
       "      <td>1-0</td>\n",
       "      <td>normal</td>\n",
       "      <td>e4 e6 Nc3 c6 f4 d5 f5 exf5 exd5 cxd5 d4 Qe7+ B...</td>\n",
       "      <td>-0.052241</td>\n",
       "      <td>-0.605796</td>\n",
       "    </tr>\n",
       "    <tr>\n",
       "      <th>8</th>\n",
       "      <td>-0.329661</td>\n",
       "      <td>0.598894</td>\n",
       "      <td>1-0</td>\n",
       "      <td>normal</td>\n",
       "      <td>e4 g6 Bc4 Bg7 c3 Nf6 e5 Ng4 d4 d5 Bb3 Nc6 h3 N...</td>\n",
       "      <td>-0.052241</td>\n",
       "      <td>-0.605796</td>\n",
       "    </tr>\n",
       "    <tr>\n",
       "      <th>12</th>\n",
       "      <td>-1.270730</td>\n",
       "      <td>0.286759</td>\n",
       "      <td>0-1</td>\n",
       "      <td>normal</td>\n",
       "      <td>d4 Nf6 c4 a6 Nc3 b6 e4 Bb7 e5 Ng8 Nh3 h6 Be2 e...</td>\n",
       "      <td>1.712354</td>\n",
       "      <td>0.164122</td>\n",
       "    </tr>\n",
       "    <tr>\n",
       "      <th>13</th>\n",
       "      <td>-0.344214</td>\n",
       "      <td>-2.527184</td>\n",
       "      <td>1/2-1/2</td>\n",
       "      <td>normal</td>\n",
       "      <td>d4 d5 f4 Nc6 Nc3 Nxd4 Nxd5 Qxd5</td>\n",
       "      <td>0.830056</td>\n",
       "      <td>-0.124597</td>\n",
       "    </tr>\n",
       "  </tbody>\n",
       "</table>\n",
       "</div>"
      ],
      "text/plain": [
       "    white_elo  black_elo   result termination  \\\n",
       "2   -0.155030  -1.685366      1-0      normal   \n",
       "7   -0.805046   0.504307      1-0      normal   \n",
       "8   -0.329661   0.598894      1-0      normal   \n",
       "12  -1.270730   0.286759      0-1      normal   \n",
       "13  -0.344214  -2.527184  1/2-1/2      normal   \n",
       "\n",
       "                                                moves      time  increment  \n",
       "2   e4 d5 e5 Nc6 d4 g6 Bg5 Bg7 Nd2 f6 exf6 Nxf6 Nb...  0.388908   2.281395  \n",
       "7   e4 e6 Nc3 c6 f4 d5 f5 exf5 exd5 cxd5 d4 Qe7+ B... -0.052241  -0.605796  \n",
       "8   e4 g6 Bc4 Bg7 c3 Nf6 e5 Ng4 d4 d5 Bb3 Nc6 h3 N... -0.052241  -0.605796  \n",
       "12  d4 Nf6 c4 a6 Nc3 b6 e4 Bb7 e5 Ng8 Nh3 h6 Be2 e...  1.712354   0.164122  \n",
       "13                    d4 d5 f4 Nc6 Nc3 Nxd4 Nxd5 Qxd5  0.830056  -0.124597  "
      ]
     },
     "execution_count": 42,
     "metadata": {},
     "output_type": "execute_result"
    }
   ],
   "source": [
    "df_classical.head()"
   ]
  },
  {
   "cell_type": "markdown",
   "metadata": {},
   "source": [
    "### Creating one-hot encoding for game results and termination."
   ]
  },
  {
   "cell_type": "code",
   "execution_count": 43,
   "metadata": {},
   "outputs": [
    {
     "data": {
      "text/html": [
       "<div>\n",
       "<style scoped>\n",
       "    .dataframe tbody tr th:only-of-type {\n",
       "        vertical-align: middle;\n",
       "    }\n",
       "\n",
       "    .dataframe tbody tr th {\n",
       "        vertical-align: top;\n",
       "    }\n",
       "\n",
       "    .dataframe thead th {\n",
       "        text-align: right;\n",
       "    }\n",
       "</style>\n",
       "<table border=\"1\" class=\"dataframe\">\n",
       "  <thead>\n",
       "    <tr style=\"text-align: right;\">\n",
       "      <th></th>\n",
       "      <th>white_elo</th>\n",
       "      <th>black_elo</th>\n",
       "      <th>moves</th>\n",
       "      <th>time</th>\n",
       "      <th>increment</th>\n",
       "      <th>result_0-1</th>\n",
       "      <th>result_1-0</th>\n",
       "      <th>result_1/2-1/2</th>\n",
       "      <th>termination_normal</th>\n",
       "      <th>termination_rules infraction</th>\n",
       "      <th>termination_time forfeit</th>\n",
       "    </tr>\n",
       "  </thead>\n",
       "  <tbody>\n",
       "    <tr>\n",
       "      <th>2</th>\n",
       "      <td>-0.155030</td>\n",
       "      <td>-1.685366</td>\n",
       "      <td>e4 d5 e5 Nc6 d4 g6 Bg5 Bg7 Nd2 f6 exf6 Nxf6 Nb...</td>\n",
       "      <td>0.388908</td>\n",
       "      <td>2.281395</td>\n",
       "      <td>0.0</td>\n",
       "      <td>1.0</td>\n",
       "      <td>0.0</td>\n",
       "      <td>1.0</td>\n",
       "      <td>0.0</td>\n",
       "      <td>0.0</td>\n",
       "    </tr>\n",
       "    <tr>\n",
       "      <th>7</th>\n",
       "      <td>-0.805046</td>\n",
       "      <td>0.504307</td>\n",
       "      <td>e4 e6 Nc3 c6 f4 d5 f5 exf5 exd5 cxd5 d4 Qe7+ B...</td>\n",
       "      <td>-0.052241</td>\n",
       "      <td>-0.605796</td>\n",
       "      <td>0.0</td>\n",
       "      <td>1.0</td>\n",
       "      <td>0.0</td>\n",
       "      <td>1.0</td>\n",
       "      <td>0.0</td>\n",
       "      <td>0.0</td>\n",
       "    </tr>\n",
       "    <tr>\n",
       "      <th>8</th>\n",
       "      <td>-0.329661</td>\n",
       "      <td>0.598894</td>\n",
       "      <td>e4 g6 Bc4 Bg7 c3 Nf6 e5 Ng4 d4 d5 Bb3 Nc6 h3 N...</td>\n",
       "      <td>-0.052241</td>\n",
       "      <td>-0.605796</td>\n",
       "      <td>0.0</td>\n",
       "      <td>1.0</td>\n",
       "      <td>0.0</td>\n",
       "      <td>1.0</td>\n",
       "      <td>0.0</td>\n",
       "      <td>0.0</td>\n",
       "    </tr>\n",
       "    <tr>\n",
       "      <th>12</th>\n",
       "      <td>-1.270730</td>\n",
       "      <td>0.286759</td>\n",
       "      <td>d4 Nf6 c4 a6 Nc3 b6 e4 Bb7 e5 Ng8 Nh3 h6 Be2 e...</td>\n",
       "      <td>1.712354</td>\n",
       "      <td>0.164122</td>\n",
       "      <td>1.0</td>\n",
       "      <td>0.0</td>\n",
       "      <td>0.0</td>\n",
       "      <td>1.0</td>\n",
       "      <td>0.0</td>\n",
       "      <td>0.0</td>\n",
       "    </tr>\n",
       "    <tr>\n",
       "      <th>13</th>\n",
       "      <td>-0.344214</td>\n",
       "      <td>-2.527184</td>\n",
       "      <td>d4 d5 f4 Nc6 Nc3 Nxd4 Nxd5 Qxd5</td>\n",
       "      <td>0.830056</td>\n",
       "      <td>-0.124597</td>\n",
       "      <td>0.0</td>\n",
       "      <td>0.0</td>\n",
       "      <td>1.0</td>\n",
       "      <td>1.0</td>\n",
       "      <td>0.0</td>\n",
       "      <td>0.0</td>\n",
       "    </tr>\n",
       "  </tbody>\n",
       "</table>\n",
       "</div>"
      ],
      "text/plain": [
       "    white_elo  black_elo                                              moves  \\\n",
       "2   -0.155030  -1.685366  e4 d5 e5 Nc6 d4 g6 Bg5 Bg7 Nd2 f6 exf6 Nxf6 Nb...   \n",
       "7   -0.805046   0.504307  e4 e6 Nc3 c6 f4 d5 f5 exf5 exd5 cxd5 d4 Qe7+ B...   \n",
       "8   -0.329661   0.598894  e4 g6 Bc4 Bg7 c3 Nf6 e5 Ng4 d4 d5 Bb3 Nc6 h3 N...   \n",
       "12  -1.270730   0.286759  d4 Nf6 c4 a6 Nc3 b6 e4 Bb7 e5 Ng8 Nh3 h6 Be2 e...   \n",
       "13  -0.344214  -2.527184                    d4 d5 f4 Nc6 Nc3 Nxd4 Nxd5 Qxd5   \n",
       "\n",
       "        time  increment  result_0-1  result_1-0  result_1/2-1/2  \\\n",
       "2   0.388908   2.281395         0.0         1.0             0.0   \n",
       "7  -0.052241  -0.605796         0.0         1.0             0.0   \n",
       "8  -0.052241  -0.605796         0.0         1.0             0.0   \n",
       "12  1.712354   0.164122         1.0         0.0             0.0   \n",
       "13  0.830056  -0.124597         0.0         0.0             1.0   \n",
       "\n",
       "    termination_normal  termination_rules infraction  termination_time forfeit  \n",
       "2                  1.0                           0.0                       0.0  \n",
       "7                  1.0                           0.0                       0.0  \n",
       "8                  1.0                           0.0                       0.0  \n",
       "12                 1.0                           0.0                       0.0  \n",
       "13                 1.0                           0.0                       0.0  "
      ]
     },
     "execution_count": 43,
     "metadata": {},
     "output_type": "execute_result"
    }
   ],
   "source": [
    "df_classical = pd.get_dummies(df_classical, columns=['result', 'termination'])\n",
    "one_hot_cols = ['result_0-1','result_1-0','result_1/2-1/2','termination_normal','termination_rules infraction','termination_time forfeit']\n",
    "df_classical[one_hot_cols] = df_classical[one_hot_cols].astype('float32') \n",
    "df_classical.head()"
   ]
  },
  {
   "cell_type": "markdown",
   "metadata": {},
   "source": [
    "### Creating move embeddings with fastText model."
   ]
  },
  {
   "cell_type": "code",
   "execution_count": 44,
   "metadata": {},
   "outputs": [
    {
     "name": "stderr",
     "output_type": "stream",
     "text": [
      "Warning : `load_model` does not return WordVectorModel or SupervisedModel any more, but a `FastText` object which is very similar.\n"
     ]
    }
   ],
   "source": [
    "EMBEDDINGS_MODEL = 'models/chess2vec-3ws-16dim.bin'\n",
    "import fasttext as ft\n",
    "\n",
    "model = ft.load_model(EMBEDDINGS_MODEL)"
   ]
  },
  {
   "cell_type": "code",
   "execution_count": 45,
   "metadata": {},
   "outputs": [],
   "source": [
    "from pandas import DataFrame\n",
    "import numpy as np\n",
    "def process_game_moves(vecs_dictionary: dict, moves_str: str):\n",
    "    moves = moves_str.split(' ')\n",
    "\n",
    "    return [vecs_dictionary[move] for move in moves]\n",
    "\n",
    "def moves2vec(model, df_moves: DataFrame):\n",
    "    unique_moves = set()\n",
    "    for moves in df_moves.values:\n",
    "        unique_moves.update(moves.split())\n",
    "    \n",
    "    moves_vecs = {move: model.get_word_vector(move) for move in unique_moves}\n",
    "    \n",
    "    return df_moves.apply(lambda moves_str: process_game_moves(moves_vecs, moves_str))"
   ]
  },
  {
   "cell_type": "code",
   "execution_count": 46,
   "metadata": {},
   "outputs": [
    {
     "data": {
      "text/html": [
       "<div>\n",
       "<style scoped>\n",
       "    .dataframe tbody tr th:only-of-type {\n",
       "        vertical-align: middle;\n",
       "    }\n",
       "\n",
       "    .dataframe tbody tr th {\n",
       "        vertical-align: top;\n",
       "    }\n",
       "\n",
       "    .dataframe thead th {\n",
       "        text-align: right;\n",
       "    }\n",
       "</style>\n",
       "<table border=\"1\" class=\"dataframe\">\n",
       "  <thead>\n",
       "    <tr style=\"text-align: right;\">\n",
       "      <th></th>\n",
       "      <th>white_elo</th>\n",
       "      <th>black_elo</th>\n",
       "      <th>moves</th>\n",
       "      <th>time</th>\n",
       "      <th>increment</th>\n",
       "      <th>result_0-1</th>\n",
       "      <th>result_1-0</th>\n",
       "      <th>result_1/2-1/2</th>\n",
       "      <th>termination_normal</th>\n",
       "      <th>termination_rules infraction</th>\n",
       "      <th>termination_time forfeit</th>\n",
       "    </tr>\n",
       "  </thead>\n",
       "  <tbody>\n",
       "    <tr>\n",
       "      <th>2</th>\n",
       "      <td>-0.155030</td>\n",
       "      <td>-1.685366</td>\n",
       "      <td>[[0.45821777, 0.44841745, 0.76662135, 0.748688...</td>\n",
       "      <td>0.388908</td>\n",
       "      <td>2.281395</td>\n",
       "      <td>0.0</td>\n",
       "      <td>1.0</td>\n",
       "      <td>0.0</td>\n",
       "      <td>1.0</td>\n",
       "      <td>0.0</td>\n",
       "      <td>0.0</td>\n",
       "    </tr>\n",
       "    <tr>\n",
       "      <th>7</th>\n",
       "      <td>-0.805046</td>\n",
       "      <td>0.504307</td>\n",
       "      <td>[[0.45821777, 0.44841745, 0.76662135, 0.748688...</td>\n",
       "      <td>-0.052241</td>\n",
       "      <td>-0.605796</td>\n",
       "      <td>0.0</td>\n",
       "      <td>1.0</td>\n",
       "      <td>0.0</td>\n",
       "      <td>1.0</td>\n",
       "      <td>0.0</td>\n",
       "      <td>0.0</td>\n",
       "    </tr>\n",
       "    <tr>\n",
       "      <th>8</th>\n",
       "      <td>-0.329661</td>\n",
       "      <td>0.598894</td>\n",
       "      <td>[[0.45821777, 0.44841745, 0.76662135, 0.748688...</td>\n",
       "      <td>-0.052241</td>\n",
       "      <td>-0.605796</td>\n",
       "      <td>0.0</td>\n",
       "      <td>1.0</td>\n",
       "      <td>0.0</td>\n",
       "      <td>1.0</td>\n",
       "      <td>0.0</td>\n",
       "      <td>0.0</td>\n",
       "    </tr>\n",
       "    <tr>\n",
       "      <th>12</th>\n",
       "      <td>-1.270730</td>\n",
       "      <td>0.286759</td>\n",
       "      <td>[[0.43196738, 0.40913582, 0.66153723, 0.606756...</td>\n",
       "      <td>1.712354</td>\n",
       "      <td>0.164122</td>\n",
       "      <td>1.0</td>\n",
       "      <td>0.0</td>\n",
       "      <td>0.0</td>\n",
       "      <td>1.0</td>\n",
       "      <td>0.0</td>\n",
       "      <td>0.0</td>\n",
       "    </tr>\n",
       "    <tr>\n",
       "      <th>13</th>\n",
       "      <td>-0.344214</td>\n",
       "      <td>-2.527184</td>\n",
       "      <td>[[0.43196738, 0.40913582, 0.66153723, 0.606756...</td>\n",
       "      <td>0.830056</td>\n",
       "      <td>-0.124597</td>\n",
       "      <td>0.0</td>\n",
       "      <td>0.0</td>\n",
       "      <td>1.0</td>\n",
       "      <td>1.0</td>\n",
       "      <td>0.0</td>\n",
       "      <td>0.0</td>\n",
       "    </tr>\n",
       "  </tbody>\n",
       "</table>\n",
       "</div>"
      ],
      "text/plain": [
       "    white_elo  black_elo                                              moves  \\\n",
       "2   -0.155030  -1.685366  [[0.45821777, 0.44841745, 0.76662135, 0.748688...   \n",
       "7   -0.805046   0.504307  [[0.45821777, 0.44841745, 0.76662135, 0.748688...   \n",
       "8   -0.329661   0.598894  [[0.45821777, 0.44841745, 0.76662135, 0.748688...   \n",
       "12  -1.270730   0.286759  [[0.43196738, 0.40913582, 0.66153723, 0.606756...   \n",
       "13  -0.344214  -2.527184  [[0.43196738, 0.40913582, 0.66153723, 0.606756...   \n",
       "\n",
       "        time  increment  result_0-1  result_1-0  result_1/2-1/2  \\\n",
       "2   0.388908   2.281395         0.0         1.0             0.0   \n",
       "7  -0.052241  -0.605796         0.0         1.0             0.0   \n",
       "8  -0.052241  -0.605796         0.0         1.0             0.0   \n",
       "12  1.712354   0.164122         1.0         0.0             0.0   \n",
       "13  0.830056  -0.124597         0.0         0.0             1.0   \n",
       "\n",
       "    termination_normal  termination_rules infraction  termination_time forfeit  \n",
       "2                  1.0                           0.0                       0.0  \n",
       "7                  1.0                           0.0                       0.0  \n",
       "8                  1.0                           0.0                       0.0  \n",
       "12                 1.0                           0.0                       0.0  \n",
       "13                 1.0                           0.0                       0.0  "
      ]
     },
     "execution_count": 46,
     "metadata": {},
     "output_type": "execute_result"
    }
   ],
   "source": [
    "df_classical['moves'] = moves2vec(model, df_classical['moves'])\n",
    "df_classical.head()"
   ]
  },
  {
   "cell_type": "code",
   "execution_count": 47,
   "metadata": {},
   "outputs": [
    {
     "data": {
      "text/plain": [
       "16"
      ]
     },
     "execution_count": 47,
     "metadata": {},
     "output_type": "execute_result"
    }
   ],
   "source": [
    "len(df_classical['moves'].values[0][0])"
   ]
  },
  {
   "cell_type": "code",
   "execution_count": 48,
   "metadata": {},
   "outputs": [],
   "source": [
    "df_classical.to_hdf('data/classical_16dim_s.h5', key='df', mode='w', index=False)"
   ]
  },
  {
   "cell_type": "code",
   "execution_count": null,
   "metadata": {},
   "outputs": [],
   "source": []
  }
 ],
 "metadata": {
  "kernelspec": {
   "display_name": "ELO Guesser 3.11 new",
   "language": "python",
   "name": "elo_guesser3.11"
  },
  "language_info": {
   "codemirror_mode": {
    "name": "ipython",
    "version": 3
   },
   "file_extension": ".py",
   "mimetype": "text/x-python",
   "name": "python",
   "nbconvert_exporter": "python",
   "pygments_lexer": "ipython3",
   "version": "3.11.11"
  }
 },
 "nbformat": 4,
 "nbformat_minor": 2
}
